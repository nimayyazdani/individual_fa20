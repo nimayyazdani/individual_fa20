{
 "cells": [
  {
   "cell_type": "markdown",
   "metadata": {},
   "source": [
    "# COGS 108 - Project Proposal"
   ]
  },
  {
   "cell_type": "markdown",
   "metadata": {},
   "source": [
    "# Names & GitHub ID\n",
    "\n",
    "- Name: Nima Yazdani\n",
    "- GitHub Username: Nimayyazdani"
   ]
  },
  {
   "cell_type": "markdown",
   "metadata": {},
   "source": [
    "# Research Question"
   ]
  },
  {
   "cell_type": "markdown",
   "metadata": {},
   "source": [
    "Whether or not, and how much if so, education affects the political party of voters in America."
   ]
  },
  {
   "cell_type": "markdown",
   "metadata": {},
   "source": [
    "## Background and Prior Work"
   ]
  },
  {
   "cell_type": "markdown",
   "metadata": {},
   "source": [
    "*Fill in your background and prior work here. Be sure to specify which statements are from which references.* \n",
    "\n",
    "References (include links):\n",
    "- 1) Pew Research Center has shown that those who have just a college degree lean more democratically, but only slightly, while those who pursue further education and have a post-graduate degree lean much more severly towards democrats. But in comparison to other characteristics such as race, and gender, it is difficult to say which attribute affects party affiliation more. Their research indicates that black and hispanic voters tend to heavliy suppport the democratic party while whites favor republicans. Along with this, women to my surprise, historically and especially in this election, have been supporting teh democratic party. https://www.pewresearch.org/politics/2015/04/07/party-identification-trends-1992-2014/#total\n",
    "- 2) The Atlantic's article 'America is Divided by Education' points out how the difference in party affiliation and it's coorilation to education level is really only prevelant among white voters, but it wasnt always like this. In the 1950's those who were more educated tended to vote for the republican party more than democrats, but today it is the exact opposite. The main reson for this shift, and the focus of this research, is the change in the democratic party towards a party that fought for civil rights. Over the last six decades, the repblican party has focused on winning the vote of the white majority while democrats continue to be a party of wide cultural support. Before the 2008 election of Obama white voters who were apart of labor unions tended to vote democratic, but after the first black president was elected as a democrat, the racial divide between parties was clear and less educated white voters have been crossing the aisle since."
   ]
  },
  {
   "cell_type": "markdown",
   "metadata": {},
   "source": [
    "# Hypothesis\n"
   ]
  },
  {
   "cell_type": "markdown",
   "metadata": {},
   "source": [
    "The more educated someone is, and after someone becomes more educated, the more likely they will change their voter registration to democrat."
   ]
  },
  {
   "cell_type": "markdown",
   "metadata": {},
   "source": [
    "# Data"
   ]
  },
  {
   "cell_type": "markdown",
   "metadata": {},
   "source": [
    "   The optimal data set would be a large csv that would include the party registration of each individual, their age, sex, location, and their education level. What would be even more ideal is if in this file it included the coter registration of individuals before and after attending college, along with their age, sex, and location. This would be difficult to collect as voter registration and voting is supposed to be anonymous but if it is possible, this data would be collected and retrieved by the government through regular voter registrations and changes in registration for each election.\n",
    "\n",
    "\n",
    "Explain what the ideal dataset you would want to answer this question. (This should include: What variables? How many observations? Who/what/how would these data be collected? How would these data be stored/organized?)*"
   ]
  },
  {
   "cell_type": "markdown",
   "metadata": {},
   "source": [
    "# Ethics & Privacy"
   ]
  },
  {
   "cell_type": "markdown",
   "metadata": {},
   "source": [
    "   This kind of answer could potentially be used to scold or discredit a group of voters' opinions and votes in an election. For example if my hypothesis proves to be true, it could easily be said that voters from certain states who have lower levels of education should have less of a say in politics, or that their opinions are discredited. This data is not to prove that education leads to a more or less correct opinion or view on political matters. This information could also be used to sway voters if one claims, for example, that you should alwasy vote for Republicans because that is what educated people do. Along with this, the registration of voters and their identity is extremely sensitive information. Revealing who voted for who in each election would be a violation of consitutional rights and therefore would be extremely difficult data to gather anyway if not impossible, but also data that could never be released. The last concern with this data is that if one group of individuals, say those who did not graduate high school, do not regularly register or vote in elections then a significant portion of citizens would not be counted for.\n",
    "   The best way to mediate these problems would be to clarify multiple times throughout the presentation of my research, that this does not delegitimize the opinions or votes of any specific person. If I am sure to reiterate this multiple times, it will make it much harder to take the data and conclusions about from my research out of context and used maliciously in this way. Secondly, in order to make accurate claims on this data, conclusions should be made with an understanding and a proclimation about what groups are not accurately represented or underrepresented in the data."
   ]
  }
 ],
 "metadata": {
  "kernelspec": {
   "display_name": "Python 3",
   "language": "python",
   "name": "python3"
  },
  "language_info": {
   "codemirror_mode": {
    "name": "ipython",
    "version": 3
   },
   "file_extension": ".py",
   "mimetype": "text/x-python",
   "name": "python",
   "nbconvert_exporter": "python",
   "pygments_lexer": "ipython3",
   "version": "3.7.6"
  }
 },
 "nbformat": 4,
 "nbformat_minor": 2
}
